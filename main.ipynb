{
 "cells": [
  {
   "cell_type": "markdown",
   "id": "1b7749e9",
   "metadata": {},
   "source": [
    "**Project - IronHack Payments**"
   ]
  },
  {
   "cell_type": "code",
   "execution_count": 59,
   "id": "7dfae4ad",
   "metadata": {},
   "outputs": [],
   "source": [
    "import pandas as pd\n"
   ]
  },
  {
   "cell_type": "code",
   "execution_count": 60,
   "id": "12ff94f4",
   "metadata": {},
   "outputs": [],
   "source": [
    "cash_request = pd.read_csv('project_dataset/extract - cash request - data analyst.csv')\n",
    "fees = pd.read_csv('project_dataset/extract - fees - data analyst - .csv')\n"
   ]
  },
  {
   "cell_type": "code",
   "execution_count": 61,
   "id": "cbca7f59",
   "metadata": {},
   "outputs": [
    {
     "data": {
      "text/html": [
       "<div>\n",
       "<style scoped>\n",
       "    .dataframe tbody tr th:only-of-type {\n",
       "        vertical-align: middle;\n",
       "    }\n",
       "\n",
       "    .dataframe tbody tr th {\n",
       "        vertical-align: top;\n",
       "    }\n",
       "\n",
       "    .dataframe thead th {\n",
       "        text-align: right;\n",
       "    }\n",
       "</style>\n",
       "<table border=\"1\" class=\"dataframe\">\n",
       "  <thead>\n",
       "    <tr style=\"text-align: right;\">\n",
       "      <th></th>\n",
       "      <th>id</th>\n",
       "      <th>amount</th>\n",
       "      <th>status</th>\n",
       "      <th>created_at</th>\n",
       "      <th>updated_at</th>\n",
       "      <th>user_id</th>\n",
       "      <th>moderated_at</th>\n",
       "      <th>deleted_account_id</th>\n",
       "      <th>reimbursement_date</th>\n",
       "      <th>cash_request_received_date</th>\n",
       "      <th>money_back_date</th>\n",
       "      <th>transfer_type</th>\n",
       "      <th>send_at</th>\n",
       "      <th>recovery_status</th>\n",
       "      <th>reco_creation</th>\n",
       "      <th>reco_last_update</th>\n",
       "    </tr>\n",
       "  </thead>\n",
       "  <tbody>\n",
       "    <tr>\n",
       "      <th>0</th>\n",
       "      <td>5</td>\n",
       "      <td>100.0</td>\n",
       "      <td>rejected</td>\n",
       "      <td>2019-12-10 19:05:21.596873+00</td>\n",
       "      <td>2019-12-11 16:47:42.40783+00</td>\n",
       "      <td>804.0</td>\n",
       "      <td>2019-12-11 16:47:42.405646+00</td>\n",
       "      <td>NaN</td>\n",
       "      <td>2020-01-09 19:05:21.596363+00</td>\n",
       "      <td>NaN</td>\n",
       "      <td>NaN</td>\n",
       "      <td>regular</td>\n",
       "      <td>NaN</td>\n",
       "      <td>NaN</td>\n",
       "      <td>NaN</td>\n",
       "      <td>NaN</td>\n",
       "    </tr>\n",
       "    <tr>\n",
       "      <th>1</th>\n",
       "      <td>70</td>\n",
       "      <td>100.0</td>\n",
       "      <td>rejected</td>\n",
       "      <td>2019-12-10 19:50:12.34778+00</td>\n",
       "      <td>2019-12-11 14:24:22.900054+00</td>\n",
       "      <td>231.0</td>\n",
       "      <td>2019-12-11 14:24:22.897988+00</td>\n",
       "      <td>NaN</td>\n",
       "      <td>2020-01-09 19:50:12.34778+00</td>\n",
       "      <td>NaN</td>\n",
       "      <td>NaN</td>\n",
       "      <td>regular</td>\n",
       "      <td>NaN</td>\n",
       "      <td>NaN</td>\n",
       "      <td>NaN</td>\n",
       "      <td>NaN</td>\n",
       "    </tr>\n",
       "    <tr>\n",
       "      <th>2</th>\n",
       "      <td>7</td>\n",
       "      <td>100.0</td>\n",
       "      <td>rejected</td>\n",
       "      <td>2019-12-10 19:13:35.82546+00</td>\n",
       "      <td>2019-12-11 09:46:59.779773+00</td>\n",
       "      <td>191.0</td>\n",
       "      <td>2019-12-11 09:46:59.777728+00</td>\n",
       "      <td>NaN</td>\n",
       "      <td>2020-01-09 19:13:35.825041+00</td>\n",
       "      <td>NaN</td>\n",
       "      <td>NaN</td>\n",
       "      <td>regular</td>\n",
       "      <td>NaN</td>\n",
       "      <td>NaN</td>\n",
       "      <td>NaN</td>\n",
       "      <td>NaN</td>\n",
       "    </tr>\n",
       "    <tr>\n",
       "      <th>3</th>\n",
       "      <td>10</td>\n",
       "      <td>99.0</td>\n",
       "      <td>rejected</td>\n",
       "      <td>2019-12-10 19:16:10.880172+00</td>\n",
       "      <td>2019-12-18 14:26:18.136163+00</td>\n",
       "      <td>761.0</td>\n",
       "      <td>2019-12-18 14:26:18.128407+00</td>\n",
       "      <td>NaN</td>\n",
       "      <td>2020-01-09 19:16:10.879606+00</td>\n",
       "      <td>NaN</td>\n",
       "      <td>NaN</td>\n",
       "      <td>regular</td>\n",
       "      <td>NaN</td>\n",
       "      <td>NaN</td>\n",
       "      <td>NaN</td>\n",
       "      <td>NaN</td>\n",
       "    </tr>\n",
       "    <tr>\n",
       "      <th>4</th>\n",
       "      <td>1594</td>\n",
       "      <td>100.0</td>\n",
       "      <td>rejected</td>\n",
       "      <td>2020-05-06 09:59:38.877376+00</td>\n",
       "      <td>2020-05-07 09:21:55.34008+00</td>\n",
       "      <td>7686.0</td>\n",
       "      <td>2020-05-07 09:21:55.320193+00</td>\n",
       "      <td>NaN</td>\n",
       "      <td>2020-06-05 22:00:00+00</td>\n",
       "      <td>NaN</td>\n",
       "      <td>NaN</td>\n",
       "      <td>regular</td>\n",
       "      <td>NaN</td>\n",
       "      <td>NaN</td>\n",
       "      <td>NaN</td>\n",
       "      <td>NaN</td>\n",
       "    </tr>\n",
       "    <tr>\n",
       "      <th>...</th>\n",
       "      <td>...</td>\n",
       "      <td>...</td>\n",
       "      <td>...</td>\n",
       "      <td>...</td>\n",
       "      <td>...</td>\n",
       "      <td>...</td>\n",
       "      <td>...</td>\n",
       "      <td>...</td>\n",
       "      <td>...</td>\n",
       "      <td>...</td>\n",
       "      <td>...</td>\n",
       "      <td>...</td>\n",
       "      <td>...</td>\n",
       "      <td>...</td>\n",
       "      <td>...</td>\n",
       "      <td>...</td>\n",
       "    </tr>\n",
       "    <tr>\n",
       "      <th>23965</th>\n",
       "      <td>20616</td>\n",
       "      <td>100.0</td>\n",
       "      <td>money_back</td>\n",
       "      <td>2020-10-12 13:54:11.686225+00</td>\n",
       "      <td>2021-02-06 20:17:49.292493+00</td>\n",
       "      <td>13681.0</td>\n",
       "      <td>NaN</td>\n",
       "      <td>NaN</td>\n",
       "      <td>2021-02-06 11:00:00+00</td>\n",
       "      <td>2020-10-13</td>\n",
       "      <td>2021-02-06 20:17:49.257521+00</td>\n",
       "      <td>instant</td>\n",
       "      <td>2020-10-12 13:54:24.352856+00</td>\n",
       "      <td>NaN</td>\n",
       "      <td>NaN</td>\n",
       "      <td>NaN</td>\n",
       "    </tr>\n",
       "    <tr>\n",
       "      <th>23966</th>\n",
       "      <td>25243</td>\n",
       "      <td>50.0</td>\n",
       "      <td>money_back</td>\n",
       "      <td>2020-10-27 14:41:25.73491+00</td>\n",
       "      <td>2020-12-18 13:15:40.843946+00</td>\n",
       "      <td>NaN</td>\n",
       "      <td>NaN</td>\n",
       "      <td>30367.0</td>\n",
       "      <td>2020-11-03 22:00:00+00</td>\n",
       "      <td>2020-10-28</td>\n",
       "      <td>2020-12-01 13:26:53.787672+00</td>\n",
       "      <td>instant</td>\n",
       "      <td>2020-10-27 14:41:57.901946+00</td>\n",
       "      <td>completed</td>\n",
       "      <td>2020-11-12 23:20:41.928788+00</td>\n",
       "      <td>2020-12-01 13:26:53.815504+00</td>\n",
       "    </tr>\n",
       "    <tr>\n",
       "      <th>23967</th>\n",
       "      <td>22357</td>\n",
       "      <td>100.0</td>\n",
       "      <td>money_back</td>\n",
       "      <td>2020-10-20 07:58:04.006937+00</td>\n",
       "      <td>2021-02-05 12:19:30.656816+00</td>\n",
       "      <td>82122.0</td>\n",
       "      <td>NaN</td>\n",
       "      <td>NaN</td>\n",
       "      <td>2021-02-05 11:00:00+00</td>\n",
       "      <td>2020-10-21</td>\n",
       "      <td>2021-02-05 12:19:30.626289+00</td>\n",
       "      <td>instant</td>\n",
       "      <td>2020-10-20 07:58:14.171553+00</td>\n",
       "      <td>NaN</td>\n",
       "      <td>NaN</td>\n",
       "      <td>NaN</td>\n",
       "    </tr>\n",
       "    <tr>\n",
       "      <th>23968</th>\n",
       "      <td>20256</td>\n",
       "      <td>100.0</td>\n",
       "      <td>money_back</td>\n",
       "      <td>2020-10-10 05:40:55.700422+00</td>\n",
       "      <td>2021-02-05 13:14:19.707627+00</td>\n",
       "      <td>64517.0</td>\n",
       "      <td>NaN</td>\n",
       "      <td>NaN</td>\n",
       "      <td>2021-02-05 11:00:00+00</td>\n",
       "      <td>2020-10-12</td>\n",
       "      <td>2021-02-05 13:14:19.689906+00</td>\n",
       "      <td>instant</td>\n",
       "      <td>2020-10-10 05:41:23.368363+00</td>\n",
       "      <td>NaN</td>\n",
       "      <td>NaN</td>\n",
       "      <td>NaN</td>\n",
       "    </tr>\n",
       "    <tr>\n",
       "      <th>23969</th>\n",
       "      <td>19886</td>\n",
       "      <td>100.0</td>\n",
       "      <td>direct_debit_sent</td>\n",
       "      <td>2020-10-08 14:16:52.155661+00</td>\n",
       "      <td>2021-01-05 15:45:52.645536+00</td>\n",
       "      <td>44867.0</td>\n",
       "      <td>NaN</td>\n",
       "      <td>NaN</td>\n",
       "      <td>2021-02-05 11:00:00+00</td>\n",
       "      <td>2020-10-10</td>\n",
       "      <td>NaN</td>\n",
       "      <td>instant</td>\n",
       "      <td>2020-10-08 14:17:04.526139+00</td>\n",
       "      <td>NaN</td>\n",
       "      <td>NaN</td>\n",
       "      <td>NaN</td>\n",
       "    </tr>\n",
       "  </tbody>\n",
       "</table>\n",
       "<p>23970 rows × 16 columns</p>\n",
       "</div>"
      ],
      "text/plain": [
       "          id  amount             status                     created_at  \\\n",
       "0          5   100.0           rejected  2019-12-10 19:05:21.596873+00   \n",
       "1         70   100.0           rejected   2019-12-10 19:50:12.34778+00   \n",
       "2          7   100.0           rejected   2019-12-10 19:13:35.82546+00   \n",
       "3         10    99.0           rejected  2019-12-10 19:16:10.880172+00   \n",
       "4       1594   100.0           rejected  2020-05-06 09:59:38.877376+00   \n",
       "...      ...     ...                ...                            ...   \n",
       "23965  20616   100.0         money_back  2020-10-12 13:54:11.686225+00   \n",
       "23966  25243    50.0         money_back   2020-10-27 14:41:25.73491+00   \n",
       "23967  22357   100.0         money_back  2020-10-20 07:58:04.006937+00   \n",
       "23968  20256   100.0         money_back  2020-10-10 05:40:55.700422+00   \n",
       "23969  19886   100.0  direct_debit_sent  2020-10-08 14:16:52.155661+00   \n",
       "\n",
       "                          updated_at  user_id                   moderated_at  \\\n",
       "0       2019-12-11 16:47:42.40783+00    804.0  2019-12-11 16:47:42.405646+00   \n",
       "1      2019-12-11 14:24:22.900054+00    231.0  2019-12-11 14:24:22.897988+00   \n",
       "2      2019-12-11 09:46:59.779773+00    191.0  2019-12-11 09:46:59.777728+00   \n",
       "3      2019-12-18 14:26:18.136163+00    761.0  2019-12-18 14:26:18.128407+00   \n",
       "4       2020-05-07 09:21:55.34008+00   7686.0  2020-05-07 09:21:55.320193+00   \n",
       "...                              ...      ...                            ...   \n",
       "23965  2021-02-06 20:17:49.292493+00  13681.0                            NaN   \n",
       "23966  2020-12-18 13:15:40.843946+00      NaN                            NaN   \n",
       "23967  2021-02-05 12:19:30.656816+00  82122.0                            NaN   \n",
       "23968  2021-02-05 13:14:19.707627+00  64517.0                            NaN   \n",
       "23969  2021-01-05 15:45:52.645536+00  44867.0                            NaN   \n",
       "\n",
       "       deleted_account_id             reimbursement_date  \\\n",
       "0                     NaN  2020-01-09 19:05:21.596363+00   \n",
       "1                     NaN   2020-01-09 19:50:12.34778+00   \n",
       "2                     NaN  2020-01-09 19:13:35.825041+00   \n",
       "3                     NaN  2020-01-09 19:16:10.879606+00   \n",
       "4                     NaN         2020-06-05 22:00:00+00   \n",
       "...                   ...                            ...   \n",
       "23965                 NaN         2021-02-06 11:00:00+00   \n",
       "23966             30367.0         2020-11-03 22:00:00+00   \n",
       "23967                 NaN         2021-02-05 11:00:00+00   \n",
       "23968                 NaN         2021-02-05 11:00:00+00   \n",
       "23969                 NaN         2021-02-05 11:00:00+00   \n",
       "\n",
       "      cash_request_received_date                money_back_date transfer_type  \\\n",
       "0                            NaN                            NaN       regular   \n",
       "1                            NaN                            NaN       regular   \n",
       "2                            NaN                            NaN       regular   \n",
       "3                            NaN                            NaN       regular   \n",
       "4                            NaN                            NaN       regular   \n",
       "...                          ...                            ...           ...   \n",
       "23965                 2020-10-13  2021-02-06 20:17:49.257521+00       instant   \n",
       "23966                 2020-10-28  2020-12-01 13:26:53.787672+00       instant   \n",
       "23967                 2020-10-21  2021-02-05 12:19:30.626289+00       instant   \n",
       "23968                 2020-10-12  2021-02-05 13:14:19.689906+00       instant   \n",
       "23969                 2020-10-10                            NaN       instant   \n",
       "\n",
       "                             send_at recovery_status  \\\n",
       "0                                NaN             NaN   \n",
       "1                                NaN             NaN   \n",
       "2                                NaN             NaN   \n",
       "3                                NaN             NaN   \n",
       "4                                NaN             NaN   \n",
       "...                              ...             ...   \n",
       "23965  2020-10-12 13:54:24.352856+00             NaN   \n",
       "23966  2020-10-27 14:41:57.901946+00       completed   \n",
       "23967  2020-10-20 07:58:14.171553+00             NaN   \n",
       "23968  2020-10-10 05:41:23.368363+00             NaN   \n",
       "23969  2020-10-08 14:17:04.526139+00             NaN   \n",
       "\n",
       "                       reco_creation               reco_last_update  \n",
       "0                                NaN                            NaN  \n",
       "1                                NaN                            NaN  \n",
       "2                                NaN                            NaN  \n",
       "3                                NaN                            NaN  \n",
       "4                                NaN                            NaN  \n",
       "...                              ...                            ...  \n",
       "23965                            NaN                            NaN  \n",
       "23966  2020-11-12 23:20:41.928788+00  2020-12-01 13:26:53.815504+00  \n",
       "23967                            NaN                            NaN  \n",
       "23968                            NaN                            NaN  \n",
       "23969                            NaN                            NaN  \n",
       "\n",
       "[23970 rows x 16 columns]"
      ]
     },
     "metadata": {},
     "output_type": "display_data"
    }
   ],
   "source": [
    "cash_df = cash_request\n",
    "display(cash_df)"
   ]
  },
  {
   "cell_type": "code",
   "execution_count": 62,
   "id": "c48cebff",
   "metadata": {},
   "outputs": [],
   "source": [
    "#1 created a copy\n",
    "cohort_df = cash_df.copy()\n",
    "\n",
    "#2 'send_at' in dataTime\n",
    "cash_df['send_at'] = pd.to_datetime(cash_df['send_at'], format='mixed', errors='coerce')"
   ]
  },
  {
   "cell_type": "code",
   "execution_count": 63,
   "id": "a5579c3e",
   "metadata": {},
   "outputs": [],
   "source": [
    "#3 Remove the lines 'send_at' (NaN)\n",
    "cohort_df = cohort_df[cohort_df['send_at'].notna()]"
   ]
  },
  {
   "cell_type": "code",
   "execution_count": 64,
   "id": "4802f372",
   "metadata": {},
   "outputs": [
    {
     "name": "stdout",
     "output_type": "stream",
     "text": [
      "object\n"
     ]
    }
   ],
   "source": [
    "print(cohort_df['send_at'].dtype)"
   ]
  },
  {
   "cell_type": "code",
   "execution_count": null,
   "id": "a3917cb8",
   "metadata": {},
   "outputs": [
    {
     "name": "stderr",
     "output_type": "stream",
     "text": [
      "C:\\Users\\vinyj\\AppData\\Local\\Temp\\ipykernel_12400\\3025006028.py:11: UserWarning: Converting to PeriodArray/Index representation will drop timezone information.\n",
      "  cohort_df['order_month'] = cohort_df['send_at'].dt.to_period('M')\n",
      "C:\\Users\\vinyj\\AppData\\Local\\Temp\\ipykernel_12400\\3025006028.py:12: UserWarning: Converting to PeriodArray/Index representation will drop timezone information.\n",
      "  cohort_df['cohort_month'] = cohort_df.groupby('user_id')['send_at'].transform('min').dt.to_period('M')\n"
     ]
    },
    {
     "data": {
      "text/html": [
       "<div>\n",
       "<style scoped>\n",
       "    .dataframe tbody tr th:only-of-type {\n",
       "        vertical-align: middle;\n",
       "    }\n",
       "\n",
       "    .dataframe tbody tr th {\n",
       "        vertical-align: top;\n",
       "    }\n",
       "\n",
       "    .dataframe thead th {\n",
       "        text-align: right;\n",
       "    }\n",
       "</style>\n",
       "<table border=\"1\" class=\"dataframe\">\n",
       "  <thead>\n",
       "    <tr style=\"text-align: right;\">\n",
       "      <th>cohort_index</th>\n",
       "      <th>1</th>\n",
       "      <th>2</th>\n",
       "      <th>3</th>\n",
       "      <th>4</th>\n",
       "      <th>5</th>\n",
       "    </tr>\n",
       "    <tr>\n",
       "      <th>cohort_month</th>\n",
       "      <th></th>\n",
       "      <th></th>\n",
       "      <th></th>\n",
       "      <th></th>\n",
       "      <th></th>\n",
       "    </tr>\n",
       "  </thead>\n",
       "  <tbody>\n",
       "    <tr>\n",
       "      <th>2020-07</th>\n",
       "      <td>361</td>\n",
       "      <td>220</td>\n",
       "      <td>148</td>\n",
       "      <td>170</td>\n",
       "      <td>2</td>\n",
       "    </tr>\n",
       "    <tr>\n",
       "      <th>2020-08</th>\n",
       "      <td>2263</td>\n",
       "      <td>1114</td>\n",
       "      <td>1203</td>\n",
       "      <td>42</td>\n",
       "      <td>0</td>\n",
       "    </tr>\n",
       "    <tr>\n",
       "      <th>2020-09</th>\n",
       "      <td>1186</td>\n",
       "      <td>553</td>\n",
       "      <td>27</td>\n",
       "      <td>0</td>\n",
       "      <td>0</td>\n",
       "    </tr>\n",
       "    <tr>\n",
       "      <th>2020-10</th>\n",
       "      <td>5719</td>\n",
       "      <td>48</td>\n",
       "      <td>0</td>\n",
       "      <td>0</td>\n",
       "      <td>0</td>\n",
       "    </tr>\n",
       "    <tr>\n",
       "      <th>2020-11</th>\n",
       "      <td>168</td>\n",
       "      <td>0</td>\n",
       "      <td>0</td>\n",
       "      <td>0</td>\n",
       "      <td>0</td>\n",
       "    </tr>\n",
       "  </tbody>\n",
       "</table>\n",
       "</div>"
      ],
      "text/plain": [
       "cohort_index     1     2     3    4  5\n",
       "cohort_month                          \n",
       "2020-07        361   220   148  170  2\n",
       "2020-08       2263  1114  1203   42  0\n",
       "2020-09       1186   553    27    0  0\n",
       "2020-10       5719    48     0    0  0\n",
       "2020-11        168     0     0    0  0"
      ]
     },
     "metadata": {},
     "output_type": "display_data"
    }
   ],
   "source": [
    "# 1. Crie uma cópia do DataFrame original\n",
    "cohort_df = cash_df.copy()\n",
    "\n",
    "# 2. Converta a coluna 'send_at' para datetime (com tratamento de erros)\n",
    "cohort_df['send_at'] = pd.to_datetime(cohort_df['send_at'], errors='coerce')\n",
    "\n",
    "# 3. Remova linhas onde 'send_at' não pôde ser convertido\n",
    "cohort_df = cohort_df[cohort_df['send_at'].notna()]\n",
    "\n",
    "# 4. Crie colunas auxiliares: 'order_month' e 'cohort_month'\n",
    "cohort_df['order_month'] = cohort_df['send_at'].dt.to_period('M')\n",
    "cohort_df['cohort_month'] = cohort_df.groupby('user_id')['send_at'].transform('min').dt.to_period('M')\n",
    "\n",
    "# 5. Calcule a diferença em meses entre a data da transação e a primeira transação do usuário\n",
    "cohort_df['cohort_index'] = (\n",
    "    (cohort_df['order_month'].dt.year - cohort_df['cohort_month'].dt.year) * 12 +\n",
    "    (cohort_df['order_month'].dt.month - cohort_df['cohort_month'].dt.month) + 1\n",
    ")\n",
    "merged_df = merged_df.rename(columns={'cohort_month': 'cohort'})\n",
    "\n",
    "\n",
    "# 6. Crie a tabela de cohort (usuários únicos por mês desde o início de cada cohort)\n",
    "cohort_pivot = cohort_df.groupby(['cohort_month', 'cohort_index'])['user_id'].nunique().unstack(fill_value=0)\n",
    "\n",
    "# 7. Exiba a tabela final\n",
    "display(cohort_pivot)\n"
   ]
  },
  {
   "cell_type": "code",
   "execution_count": 66,
   "id": "c4558efd",
   "metadata": {},
   "outputs": [
    {
     "name": "stdout",
     "output_type": "stream",
     "text": [
      "Requirement already satisfied: matplotlib in c:\\users\\vinyj\\appdata\\local\\programs\\python\\python313\\lib\\site-packages (3.10.5)\n",
      "Requirement already satisfied: seaborn in c:\\users\\vinyj\\appdata\\local\\programs\\python\\python313\\lib\\site-packages (0.13.2)\n",
      "Requirement already satisfied: contourpy>=1.0.1 in c:\\users\\vinyj\\appdata\\local\\programs\\python\\python313\\lib\\site-packages (from matplotlib) (1.3.3)\n",
      "Requirement already satisfied: cycler>=0.10 in c:\\users\\vinyj\\appdata\\local\\programs\\python\\python313\\lib\\site-packages (from matplotlib) (0.12.1)\n",
      "Requirement already satisfied: fonttools>=4.22.0 in c:\\users\\vinyj\\appdata\\local\\programs\\python\\python313\\lib\\site-packages (from matplotlib) (4.59.0)\n",
      "Requirement already satisfied: kiwisolver>=1.3.1 in c:\\users\\vinyj\\appdata\\local\\programs\\python\\python313\\lib\\site-packages (from matplotlib) (1.4.8)\n",
      "Requirement already satisfied: numpy>=1.23 in c:\\users\\vinyj\\appdata\\local\\programs\\python\\python313\\lib\\site-packages (from matplotlib) (2.3.2)\n",
      "Requirement already satisfied: packaging>=20.0 in c:\\users\\vinyj\\appdata\\roaming\\python\\python313\\site-packages (from matplotlib) (25.0)\n",
      "Requirement already satisfied: pillow>=8 in c:\\users\\vinyj\\appdata\\local\\programs\\python\\python313\\lib\\site-packages (from matplotlib) (11.3.0)\n",
      "Requirement already satisfied: pyparsing>=2.3.1 in c:\\users\\vinyj\\appdata\\local\\programs\\python\\python313\\lib\\site-packages (from matplotlib) (3.2.3)\n",
      "Requirement already satisfied: python-dateutil>=2.7 in c:\\users\\vinyj\\appdata\\roaming\\python\\python313\\site-packages (from matplotlib) (2.9.0.post0)\n",
      "Requirement already satisfied: pandas>=1.2 in c:\\users\\vinyj\\appdata\\local\\programs\\python\\python313\\lib\\site-packages (from seaborn) (2.3.1)\n",
      "Requirement already satisfied: pytz>=2020.1 in c:\\users\\vinyj\\appdata\\local\\programs\\python\\python313\\lib\\site-packages (from pandas>=1.2->seaborn) (2025.2)\n",
      "Requirement already satisfied: tzdata>=2022.7 in c:\\users\\vinyj\\appdata\\local\\programs\\python\\python313\\lib\\site-packages (from pandas>=1.2->seaborn) (2025.2)\n",
      "Requirement already satisfied: six>=1.5 in c:\\users\\vinyj\\appdata\\roaming\\python\\python313\\site-packages (from python-dateutil>=2.7->matplotlib) (1.17.0)\n"
     ]
    }
   ],
   "source": [
    "!pip install matplotlib seaborn"
   ]
  },
  {
   "cell_type": "code",
   "execution_count": 67,
   "id": "ee0c132a",
   "metadata": {},
   "outputs": [],
   "source": [
    "import matplotlib.pyplot as plt\n",
    "import seaborn as sns"
   ]
  },
  {
   "cell_type": "code",
   "execution_count": 68,
   "id": "82b2e9ca",
   "metadata": {},
   "outputs": [
    {
     "data": {
      "image/png": "[encoded data removed]",
      "text/plain": [
       "<Figure size 1200x600 with 2 Axes>"
      ]
     },
     "metadata": {},
     "output_type": "display_data"
    }
   ],
   "source": [
    "plt.figure(figsize=(12, 6))\n",
    "sns.heatmap(cohort_pivot, annot=True, fmt='g', cmap='YlGnBu')\n",
    "plt.title('Cohort Analysis - User Retention by Send Date')\n",
    "plt.ylabel('Months since first send')\n",
    "plt.xlabel('Cohort month')\n",
    "plt.show()\n"
   ]
  },
  {
   "cell_type": "code",
   "execution_count": 69,
   "id": "5f63f21c",
   "metadata": {},
   "outputs": [],
   "source": [
    "fees_df_copy = fees"
   ]
  },
  {
   "cell_type": "code",
   "execution_count": 70,
   "id": "bcf017f0",
   "metadata": {},
   "outputs": [],
   "source": [
    "# Dropping the duplicates in the fees DataFrame\n",
    "fees_df = fees.drop_duplicates(subset= 'cash_request_id')"
   ]
  },
  {
   "cell_type": "code",
   "execution_count": 71,
   "id": "8c9037c1",
   "metadata": {},
   "outputs": [
    {
     "name": "stdout",
     "output_type": "stream",
     "text": [
      "0\n"
     ]
    }
   ],
   "source": [
    "print(fees_df['cash_request_id'].duplicated().sum())"
   ]
  },
  {
   "cell_type": "code",
   "execution_count": 72,
   "id": "fe111bbb",
   "metadata": {},
   "outputs": [],
   "source": [
    "# merging tables\n",
    "\n",
    "merged_df = cash_df.merge(\n",
    "    fees_df,\n",
    "    how='left',\n",
    "    left_on='id',            # or whatever the key is in cash_df\n",
    "    right_on='cash_request_id' #or whatever it is in fees_df\n",
    ")\n"
   ]
  },
  {
   "cell_type": "code",
   "execution_count": 73,
   "id": "900b7cc4",
   "metadata": {},
   "outputs": [
    {
     "name": "stdout",
     "output_type": "stream",
     "text": [
      "Index(['id_x', 'amount', 'status_x', 'created_at_x', 'updated_at_x', 'user_id',\n",
      "       'moderated_at', 'deleted_account_id', 'reimbursement_date',\n",
      "       'cash_request_received_date', 'money_back_date', 'transfer_type',\n",
      "       'send_at', 'recovery_status', 'reco_creation', 'reco_last_update',\n",
      "       'id_y', 'cash_request_id', 'type', 'status_y', 'category',\n",
      "       'total_amount', 'reason', 'created_at_y', 'updated_at_y', 'paid_at',\n",
      "       'from_date', 'to_date', 'charge_moment'],\n",
      "      dtype='object')\n"
     ]
    }
   ],
   "source": [
    "print(merged_df.columns)"
   ]
  },
  {
   "cell_type": "code",
   "execution_count": 74,
   "id": "66d6194d",
   "metadata": {},
   "outputs": [
    {
     "name": "stdout",
     "output_type": "stream",
     "text": [
      "['rejected' 'money_back' 'canceled' 'active' 'direct_debit_rejected'\n",
      " 'transaction_declined' 'direct_debit_sent']\n"
     ]
    }
   ],
   "source": [
    "print(cash_request['status'].unique())"
   ]
  },
  {
   "cell_type": "code",
   "execution_count": 77,
   "id": "f72612a0",
   "metadata": {},
   "outputs": [
    {
     "ename": "KeyError",
     "evalue": "'cohort'",
     "output_type": "error",
     "traceback": [
      "\u001b[31m---------------------------------------------------------------------------\u001b[39m",
      "\u001b[31mKeyError\u001b[39m                                  Traceback (most recent call last)",
      "\u001b[36mCell\u001b[39m\u001b[36m \u001b[39m\u001b[32mIn[77]\u001b[39m\u001b[32m, line 1\u001b[39m\n\u001b[32m----> \u001b[39m\u001b[32m1\u001b[39m incidents = \u001b[43mmerged_df\u001b[49m\u001b[43m.\u001b[49m\u001b[43mgroupby\u001b[49m\u001b[43m(\u001b[49m\u001b[43m[\u001b[49m\u001b[33;43m'\u001b[39;49m\u001b[33;43mcohort\u001b[39;49m\u001b[33;43m'\u001b[39;49m\u001b[43m,\u001b[49m\u001b[43m \u001b[49m\u001b[33;43m'\u001b[39;49m\u001b[33;43mtype\u001b[39;49m\u001b[33;43m'\u001b[39;49m\u001b[43m]\u001b[49m\u001b[43m)\u001b[49m.size().unstack(fill_value=\u001b[32m0\u001b[39m)\n",
      "\u001b[36mFile \u001b[39m\u001b[32mc:\\Users\\vinyj\\AppData\\Local\\Programs\\Python\\Python313\\Lib\\site-packages\\pandas\\core\\frame.py:9190\u001b[39m, in \u001b[36mDataFrame.groupby\u001b[39m\u001b[34m(self, by, axis, level, as_index, sort, group_keys, observed, dropna)\u001b[39m\n\u001b[32m   9187\u001b[39m \u001b[38;5;28;01mif\u001b[39;00m level \u001b[38;5;129;01mis\u001b[39;00m \u001b[38;5;28;01mNone\u001b[39;00m \u001b[38;5;129;01mand\u001b[39;00m by \u001b[38;5;129;01mis\u001b[39;00m \u001b[38;5;28;01mNone\u001b[39;00m:\n\u001b[32m   9188\u001b[39m     \u001b[38;5;28;01mraise\u001b[39;00m \u001b[38;5;167;01mTypeError\u001b[39;00m(\u001b[33m\"\u001b[39m\u001b[33mYou have to supply one of \u001b[39m\u001b[33m'\u001b[39m\u001b[33mby\u001b[39m\u001b[33m'\u001b[39m\u001b[33m and \u001b[39m\u001b[33m'\u001b[39m\u001b[33mlevel\u001b[39m\u001b[33m'\u001b[39m\u001b[33m\"\u001b[39m)\n\u001b[32m-> \u001b[39m\u001b[32m9190\u001b[39m \u001b[38;5;28;01mreturn\u001b[39;00m \u001b[43mDataFrameGroupBy\u001b[49m\u001b[43m(\u001b[49m\n\u001b[32m   9191\u001b[39m \u001b[43m    \u001b[49m\u001b[43mobj\u001b[49m\u001b[43m=\u001b[49m\u001b[38;5;28;43mself\u001b[39;49m\u001b[43m,\u001b[49m\n\u001b[32m   9192\u001b[39m \u001b[43m    \u001b[49m\u001b[43mkeys\u001b[49m\u001b[43m=\u001b[49m\u001b[43mby\u001b[49m\u001b[43m,\u001b[49m\n\u001b[32m   9193\u001b[39m \u001b[43m    \u001b[49m\u001b[43maxis\u001b[49m\u001b[43m=\u001b[49m\u001b[43maxis\u001b[49m\u001b[43m,\u001b[49m\n\u001b[32m   9194\u001b[39m \u001b[43m    \u001b[49m\u001b[43mlevel\u001b[49m\u001b[43m=\u001b[49m\u001b[43mlevel\u001b[49m\u001b[43m,\u001b[49m\n\u001b[32m   9195\u001b[39m \u001b[43m    \u001b[49m\u001b[43mas_index\u001b[49m\u001b[43m=\u001b[49m\u001b[43mas_index\u001b[49m\u001b[43m,\u001b[49m\n\u001b[32m   9196\u001b[39m \u001b[43m    \u001b[49m\u001b[43msort\u001b[49m\u001b[43m=\u001b[49m\u001b[43msort\u001b[49m\u001b[43m,\u001b[49m\n\u001b[32m   9197\u001b[39m \u001b[43m    \u001b[49m\u001b[43mgroup_keys\u001b[49m\u001b[43m=\u001b[49m\u001b[43mgroup_keys\u001b[49m\u001b[43m,\u001b[49m\n\u001b[32m   9198\u001b[39m \u001b[43m    \u001b[49m\u001b[43mobserved\u001b[49m\u001b[43m=\u001b[49m\u001b[43mobserved\u001b[49m\u001b[43m,\u001b[49m\n\u001b[32m   9199\u001b[39m \u001b[43m    \u001b[49m\u001b[43mdropna\u001b[49m\u001b[43m=\u001b[49m\u001b[43mdropna\u001b[49m\u001b[43m,\u001b[49m\n\u001b[32m   9200\u001b[39m \u001b[43m\u001b[49m\u001b[43m)\u001b[49m\n",
      "\u001b[36mFile \u001b[39m\u001b[32mc:\\Users\\vinyj\\AppData\\Local\\Programs\\Python\\Python313\\Lib\\site-packages\\pandas\\core\\groupby\\groupby.py:1330\u001b[39m, in \u001b[36mGroupBy.__init__\u001b[39m\u001b[34m(self, obj, keys, axis, level, grouper, exclusions, selection, as_index, sort, group_keys, observed, dropna)\u001b[39m\n\u001b[32m   1327\u001b[39m \u001b[38;5;28mself\u001b[39m.dropna = dropna\n\u001b[32m   1329\u001b[39m \u001b[38;5;28;01mif\u001b[39;00m grouper \u001b[38;5;129;01mis\u001b[39;00m \u001b[38;5;28;01mNone\u001b[39;00m:\n\u001b[32m-> \u001b[39m\u001b[32m1330\u001b[39m     grouper, exclusions, obj = \u001b[43mget_grouper\u001b[49m\u001b[43m(\u001b[49m\n\u001b[32m   1331\u001b[39m \u001b[43m        \u001b[49m\u001b[43mobj\u001b[49m\u001b[43m,\u001b[49m\n\u001b[32m   1332\u001b[39m \u001b[43m        \u001b[49m\u001b[43mkeys\u001b[49m\u001b[43m,\u001b[49m\n\u001b[32m   1333\u001b[39m \u001b[43m        \u001b[49m\u001b[43maxis\u001b[49m\u001b[43m=\u001b[49m\u001b[43maxis\u001b[49m\u001b[43m,\u001b[49m\n\u001b[32m   1334\u001b[39m \u001b[43m        \u001b[49m\u001b[43mlevel\u001b[49m\u001b[43m=\u001b[49m\u001b[43mlevel\u001b[49m\u001b[43m,\u001b[49m\n\u001b[32m   1335\u001b[39m \u001b[43m        \u001b[49m\u001b[43msort\u001b[49m\u001b[43m=\u001b[49m\u001b[43msort\u001b[49m\u001b[43m,\u001b[49m\n\u001b[32m   1336\u001b[39m \u001b[43m        \u001b[49m\u001b[43mobserved\u001b[49m\u001b[43m=\u001b[49m\u001b[38;5;28;43;01mFalse\u001b[39;49;00m\u001b[43m \u001b[49m\u001b[38;5;28;43;01mif\u001b[39;49;00m\u001b[43m \u001b[49m\u001b[43mobserved\u001b[49m\u001b[43m \u001b[49m\u001b[38;5;129;43;01mis\u001b[39;49;00m\u001b[43m \u001b[49m\u001b[43mlib\u001b[49m\u001b[43m.\u001b[49m\u001b[43mno_default\u001b[49m\u001b[43m \u001b[49m\u001b[38;5;28;43;01melse\u001b[39;49;00m\u001b[43m \u001b[49m\u001b[43mobserved\u001b[49m\u001b[43m,\u001b[49m\n\u001b[32m   1337\u001b[39m \u001b[43m        \u001b[49m\u001b[43mdropna\u001b[49m\u001b[43m=\u001b[49m\u001b[38;5;28;43mself\u001b[39;49m\u001b[43m.\u001b[49m\u001b[43mdropna\u001b[49m\u001b[43m,\u001b[49m\n\u001b[32m   1338\u001b[39m \u001b[43m    \u001b[49m\u001b[43m)\u001b[49m\n\u001b[32m   1340\u001b[39m \u001b[38;5;28;01mif\u001b[39;00m observed \u001b[38;5;129;01mis\u001b[39;00m lib.no_default:\n\u001b[32m   1341\u001b[39m     \u001b[38;5;28;01mif\u001b[39;00m \u001b[38;5;28many\u001b[39m(ping._passed_categorical \u001b[38;5;28;01mfor\u001b[39;00m ping \u001b[38;5;129;01min\u001b[39;00m grouper.groupings):\n",
      "\u001b[36mFile \u001b[39m\u001b[32mc:\\Users\\vinyj\\AppData\\Local\\Programs\\Python\\Python313\\Lib\\site-packages\\pandas\\core\\groupby\\grouper.py:1043\u001b[39m, in \u001b[36mget_grouper\u001b[39m\u001b[34m(obj, key, axis, level, sort, observed, validate, dropna)\u001b[39m\n\u001b[32m   1041\u001b[39m         in_axis, level, gpr = \u001b[38;5;28;01mFalse\u001b[39;00m, gpr, \u001b[38;5;28;01mNone\u001b[39;00m\n\u001b[32m   1042\u001b[39m     \u001b[38;5;28;01melse\u001b[39;00m:\n\u001b[32m-> \u001b[39m\u001b[32m1043\u001b[39m         \u001b[38;5;28;01mraise\u001b[39;00m \u001b[38;5;167;01mKeyError\u001b[39;00m(gpr)\n\u001b[32m   1044\u001b[39m \u001b[38;5;28;01melif\u001b[39;00m \u001b[38;5;28misinstance\u001b[39m(gpr, Grouper) \u001b[38;5;129;01mand\u001b[39;00m gpr.key \u001b[38;5;129;01mis\u001b[39;00m \u001b[38;5;129;01mnot\u001b[39;00m \u001b[38;5;28;01mNone\u001b[39;00m:\n\u001b[32m   1045\u001b[39m     \u001b[38;5;66;03m# Add key to exclusions\u001b[39;00m\n\u001b[32m   1046\u001b[39m     exclusions.add(gpr.key)\n",
      "\u001b[31mKeyError\u001b[39m: 'cohort'"
     ]
    }
   ],
   "source": [
    "incidents = merged_df.groupby(['cohort', 'type']).size().unstack(fill_value=0)\n"
   ]
  },
  {
   "cell_type": "code",
   "execution_count": null,
   "id": "e90658e2",
   "metadata": {},
   "outputs": [
    {
     "ename": "NameError",
     "evalue": "name 'incidents' is not defined",
     "output_type": "error",
     "traceback": [
      "\u001b[31m---------------------------------------------------------------------------\u001b[39m",
      "\u001b[31mNameError\u001b[39m                                 Traceback (most recent call last)",
      "\u001b[36mCell\u001b[39m\u001b[36m \u001b[39m\u001b[32mIn[68]\u001b[39m\u001b[32m, line 1\u001b[39m\n\u001b[32m----> \u001b[39m\u001b[32m1\u001b[39m \u001b[43mincidents\u001b[49m.head\n",
      "\u001b[31mNameError\u001b[39m: name 'incidents' is not defined"
     ]
    }
   ],
   "source": [
    "incidents.head"
   ]
  }
 ],
 "metadata": {
  "kernelspec": {
   "display_name": "Python 3",
   "language": "python",
   "name": "python3"
  },
  "language_info": {
   "codemirror_mode": {
    "name": "ipython",
    "version": 3
   },
   "file_extension": ".py",
   "mimetype": "text/x-python",
   "name": "python",
   "nbconvert_exporter": "python",
   "pygments_lexer": "ipython3",
   "version": "3.13.5"
  }
 },
 "nbformat": 4,
 "nbformat_minor": 5
}
